{
 "cells": [
  {
   "cell_type": "code",
   "execution_count": 84,
   "id": "8d556ebb-cb0b-4f59-b702-b10e913621d0",
   "metadata": {
    "tags": []
   },
   "outputs": [],
   "source": [
    "import os\n",
    "import pandas as pd\n",
    "import numpy as np\n",
    "\n",
    "from pyspark import SparkConf, SparkContext\n",
    "from pyspark.sql import SparkSession, SQLContext\n",
    "\n",
    "from pyspark.sql.types import *\n",
    "import pyspark.sql.functions as F\n",
    "from pyspark.sql.functions import udf, col\n",
    "\n",
    "from pyspark.ml.regression import LinearRegression\n",
    "from pyspark.mllib.evaluation import RegressionMetrics\n",
    "\n",
    "from pyspark.ml.tuning import ParamGridBuilder, CrossValidator, CrossValidatorModel\n",
    "from pyspark.ml.feature import VectorAssembler, StandardScaler\n",
    "from pyspark.ml.evaluation import RegressionEvaluator\n",
    "import seaborn as sns\n",
    "import matplotlib.pyplot as plt"
   ]
  },
  {
   "cell_type": "code",
   "execution_count": 85,
   "id": "6fbe2d0f-b7ff-40de-82e8-1477d561839b",
   "metadata": {
    "tags": []
   },
   "outputs": [],
   "source": [
    "spark = SparkSession.builder.master(\"local[2]\").appName(\"Linear-Regression-California-Housing\").getOrCreate()"
   ]
  },
  {
   "cell_type": "code",
   "execution_count": 86,
   "id": "c8de81a2-09b4-4277-a092-51f328a9d64a",
   "metadata": {
    "tags": []
   },
   "outputs": [
    {
     "data": {
      "text/html": [
       "\n",
       "            <div>\n",
       "                <p><b>SparkSession - in-memory</b></p>\n",
       "                \n",
       "        <div>\n",
       "            <p><b>SparkContext</b></p>\n",
       "\n",
       "            <p><a href=\"http://yillzahar:4040\">Spark UI</a></p>\n",
       "\n",
       "            <dl>\n",
       "              <dt>Version</dt>\n",
       "                <dd><code>v3.4.1</code></dd>\n",
       "              <dt>Master</dt>\n",
       "                <dd><code>local[2]</code></dd>\n",
       "              <dt>AppName</dt>\n",
       "                <dd><code>Linear-Regression-California-Housing</code></dd>\n",
       "            </dl>\n",
       "        </div>\n",
       "        \n",
       "            </div>\n",
       "        "
      ],
      "text/plain": [
       "<pyspark.sql.session.SparkSession at 0x1c1561d62d0>"
      ]
     },
     "execution_count": 86,
     "metadata": {},
     "output_type": "execute_result"
    }
   ],
   "source": [
    "spark\n"
   ]
  },
  {
   "cell_type": "code",
   "execution_count": 87,
   "id": "1dc4b641-c03b-4fd2-9aa8-ed5b07cce698",
   "metadata": {
    "tags": []
   },
   "outputs": [
    {
     "data": {
      "text/html": [
       "\n",
       "        <div>\n",
       "            <p><b>SparkContext</b></p>\n",
       "\n",
       "            <p><a href=\"http://yillzahar:4040\">Spark UI</a></p>\n",
       "\n",
       "            <dl>\n",
       "              <dt>Version</dt>\n",
       "                <dd><code>v3.4.1</code></dd>\n",
       "              <dt>Master</dt>\n",
       "                <dd><code>local[2]</code></dd>\n",
       "              <dt>AppName</dt>\n",
       "                <dd><code>Linear-Regression-California-Housing</code></dd>\n",
       "            </dl>\n",
       "        </div>\n",
       "        "
      ],
      "text/plain": [
       "<SparkContext master=local[2] appName=Linear-Regression-California-Housing>"
      ]
     },
     "execution_count": 87,
     "metadata": {},
     "output_type": "execute_result"
    }
   ],
   "source": [
    "sc = spark.sparkContext\n",
    "sc"
   ]
  },
  {
   "cell_type": "code",
   "execution_count": 88,
   "id": "95cca8c4-53c6-4827-8823-ba0e4a2226d7",
   "metadata": {
    "tags": []
   },
   "outputs": [
    {
     "name": "stderr",
     "output_type": "stream",
     "text": [
      "C:\\Users\\PC\\AppData\\Local\\Programs\\Python\\Python311\\Lib\\site-packages\\pyspark\\sql\\context.py:112: FutureWarning: Deprecated in 3.0.0. Use SparkSession.builder.getOrCreate() instead.\n",
      "  warnings.warn(\n"
     ]
    },
    {
     "data": {
      "text/plain": [
       "<pyspark.sql.context.SQLContext at 0x1c15a01fad0>"
      ]
     },
     "execution_count": 88,
     "metadata": {},
     "output_type": "execute_result"
    }
   ],
   "source": [
    "sqlContext = SQLContext(spark.sparkContext)\n",
    "sqlContext"
   ]
  },
  {
   "cell_type": "code",
   "execution_count": 89,
   "id": "2ed98d8f-10b5-499c-aba3-ebd7aa838e33",
   "metadata": {
    "tags": []
   },
   "outputs": [],
   "source": [
    "HOUSING_DATA = 'housing.csv'\n"
   ]
  },
  {
   "cell_type": "code",
   "execution_count": 90,
   "id": "b07dd594-20b8-4932-b216-04c5894f3e1f",
   "metadata": {
    "tags": []
   },
   "outputs": [
    {
     "data": {
      "text/html": [
       "<div>\n",
       "<style scoped>\n",
       "    .dataframe tbody tr th:only-of-type {\n",
       "        vertical-align: middle;\n",
       "    }\n",
       "\n",
       "    .dataframe tbody tr th {\n",
       "        vertical-align: top;\n",
       "    }\n",
       "\n",
       "    .dataframe thead th {\n",
       "        text-align: right;\n",
       "    }\n",
       "</style>\n",
       "<table border=\"1\" class=\"dataframe\">\n",
       "  <thead>\n",
       "    <tr style=\"text-align: right;\">\n",
       "      <th></th>\n",
       "      <th>longitude</th>\n",
       "      <th>latitude</th>\n",
       "      <th>housing_median_age</th>\n",
       "      <th>total_rooms</th>\n",
       "      <th>total_bedrooms</th>\n",
       "      <th>population</th>\n",
       "      <th>households</th>\n",
       "      <th>median_income</th>\n",
       "      <th>median_house_value</th>\n",
       "      <th>ocean_proximity</th>\n",
       "    </tr>\n",
       "  </thead>\n",
       "  <tbody>\n",
       "    <tr>\n",
       "      <th>0</th>\n",
       "      <td>-122.23</td>\n",
       "      <td>37.88</td>\n",
       "      <td>41.0</td>\n",
       "      <td>880.0</td>\n",
       "      <td>129.0</td>\n",
       "      <td>322.0</td>\n",
       "      <td>126.0</td>\n",
       "      <td>8.3252</td>\n",
       "      <td>452600.0</td>\n",
       "      <td>NEAR BAY</td>\n",
       "    </tr>\n",
       "    <tr>\n",
       "      <th>1</th>\n",
       "      <td>-122.22</td>\n",
       "      <td>37.86</td>\n",
       "      <td>21.0</td>\n",
       "      <td>7099.0</td>\n",
       "      <td>1106.0</td>\n",
       "      <td>2401.0</td>\n",
       "      <td>1138.0</td>\n",
       "      <td>8.3014</td>\n",
       "      <td>358500.0</td>\n",
       "      <td>NEAR BAY</td>\n",
       "    </tr>\n",
       "    <tr>\n",
       "      <th>2</th>\n",
       "      <td>-122.24</td>\n",
       "      <td>37.85</td>\n",
       "      <td>52.0</td>\n",
       "      <td>1467.0</td>\n",
       "      <td>190.0</td>\n",
       "      <td>496.0</td>\n",
       "      <td>177.0</td>\n",
       "      <td>7.2574</td>\n",
       "      <td>352100.0</td>\n",
       "      <td>NEAR BAY</td>\n",
       "    </tr>\n",
       "    <tr>\n",
       "      <th>3</th>\n",
       "      <td>-122.25</td>\n",
       "      <td>37.85</td>\n",
       "      <td>52.0</td>\n",
       "      <td>1274.0</td>\n",
       "      <td>235.0</td>\n",
       "      <td>558.0</td>\n",
       "      <td>219.0</td>\n",
       "      <td>5.6431</td>\n",
       "      <td>341300.0</td>\n",
       "      <td>NEAR BAY</td>\n",
       "    </tr>\n",
       "    <tr>\n",
       "      <th>4</th>\n",
       "      <td>-122.25</td>\n",
       "      <td>37.85</td>\n",
       "      <td>52.0</td>\n",
       "      <td>1627.0</td>\n",
       "      <td>280.0</td>\n",
       "      <td>565.0</td>\n",
       "      <td>259.0</td>\n",
       "      <td>3.8462</td>\n",
       "      <td>342200.0</td>\n",
       "      <td>NEAR BAY</td>\n",
       "    </tr>\n",
       "  </tbody>\n",
       "</table>\n",
       "</div>"
      ],
      "text/plain": [
       "   longitude  latitude  housing_median_age  total_rooms  total_bedrooms  \\\n",
       "0    -122.23     37.88                41.0        880.0           129.0   \n",
       "1    -122.22     37.86                21.0       7099.0          1106.0   \n",
       "2    -122.24     37.85                52.0       1467.0           190.0   \n",
       "3    -122.25     37.85                52.0       1274.0           235.0   \n",
       "4    -122.25     37.85                52.0       1627.0           280.0   \n",
       "\n",
       "   population  households  median_income  median_house_value ocean_proximity  \n",
       "0       322.0       126.0         8.3252            452600.0        NEAR BAY  \n",
       "1      2401.0      1138.0         8.3014            358500.0        NEAR BAY  \n",
       "2       496.0       177.0         7.2574            352100.0        NEAR BAY  \n",
       "3       558.0       219.0         5.6431            341300.0        NEAR BAY  \n",
       "4       565.0       259.0         3.8462            342200.0        NEAR BAY  "
      ]
     },
     "execution_count": 90,
     "metadata": {},
     "output_type": "execute_result"
    }
   ],
   "source": [
    "data=pd.read_csv(HOUSING_DATA)\n",
    "data.head()"
   ]
  },
  {
   "cell_type": "code",
   "execution_count": 91,
   "id": "3dec6ab8-9cfd-422a-b01f-05d14dce2bf8",
   "metadata": {
    "tags": []
   },
   "outputs": [],
   "source": [
    "schema=StructType([\n",
    "    StructField(\"long\",FloatType(),nullable=True),\n",
    "    StructField(\"lat\",FloatType(),nullable=True),\n",
    "    StructField(\"medage\",FloatType(),nullable=True),\n",
    "    StructField(\"totalrooms\",FloatType(),nullable=True),\n",
    "    StructField(\"totbdrms\", FloatType(), nullable=True),\n",
    "    StructField(\"pop\", FloatType(), nullable=True),\n",
    "    StructField(\"houshlds\", FloatType(), nullable=True),\n",
    "    StructField(\"medinc\", FloatType(), nullable=True),\n",
    "    StructField(\"medhv\", FloatType(), nullable=True)]\n",
    ")"
   ]
  },
  {
   "cell_type": "code",
   "execution_count": 92,
   "id": "34fd0474-e76c-4ba7-9fcf-24c10f2a9524",
   "metadata": {
    "tags": []
   },
   "outputs": [],
   "source": [
    "house_def=spark.read.csv(path=HOUSING_DATA,schema=schema).cache()"
   ]
  },
  {
   "cell_type": "code",
   "execution_count": 93,
   "id": "186a4156-a2ab-4aa9-941b-fac43d266c66",
   "metadata": {
    "tags": []
   },
   "outputs": [
    {
     "data": {
      "text/plain": [
       "[Row(long=None, lat=None, medage=None, totalrooms=None, totbdrms=None, pop=None, houshlds=None, medinc=None, medhv=None),\n",
       " Row(long=-122.2300033569336, lat=37.880001068115234, medage=41.0, totalrooms=880.0, totbdrms=129.0, pop=322.0, houshlds=126.0, medinc=8.325200080871582, medhv=452600.0),\n",
       " Row(long=-122.22000122070312, lat=37.86000061035156, medage=21.0, totalrooms=7099.0, totbdrms=1106.0, pop=2401.0, houshlds=1138.0, medinc=8.301400184631348, medhv=358500.0),\n",
       " Row(long=-122.23999786376953, lat=37.849998474121094, medage=52.0, totalrooms=1467.0, totbdrms=190.0, pop=496.0, houshlds=177.0, medinc=7.257400035858154, medhv=352100.0),\n",
       " Row(long=-122.25, lat=37.849998474121094, medage=52.0, totalrooms=1274.0, totbdrms=235.0, pop=558.0, houshlds=219.0, medinc=5.643099784851074, medhv=341300.0)]"
      ]
     },
     "execution_count": 93,
     "metadata": {},
     "output_type": "execute_result"
    }
   ],
   "source": [
    "house_def.take(5)"
   ]
  },
  {
   "cell_type": "code",
   "execution_count": 94,
   "id": "5ab75185-d730-4501-aaf0-a867c0f2f07b",
   "metadata": {
    "tags": []
   },
   "outputs": [
    {
     "name": "stdout",
     "output_type": "stream",
     "text": [
      "+-------+-----+------+----------+--------+------+--------+------+--------+\n",
      "|   long|  lat|medage|totalrooms|totbdrms|   pop|houshlds|medinc|   medhv|\n",
      "+-------+-----+------+----------+--------+------+--------+------+--------+\n",
      "|   null| null|  null|      null|    null|  null|    null|  null|    null|\n",
      "|-122.23|37.88|  41.0|     880.0|   129.0| 322.0|   126.0|8.3252|452600.0|\n",
      "|-122.22|37.86|  21.0|    7099.0|  1106.0|2401.0|  1138.0|8.3014|358500.0|\n",
      "|-122.24|37.85|  52.0|    1467.0|   190.0| 496.0|   177.0|7.2574|352100.0|\n",
      "|-122.25|37.85|  52.0|    1274.0|   235.0| 558.0|   219.0|5.6431|341300.0|\n",
      "|-122.25|37.85|  52.0|    1627.0|   280.0| 565.0|   259.0|3.8462|342200.0|\n",
      "|-122.25|37.85|  52.0|     919.0|   213.0| 413.0|   193.0|4.0368|269700.0|\n",
      "|-122.25|37.84|  52.0|    2535.0|   489.0|1094.0|   514.0|3.6591|299200.0|\n",
      "|-122.25|37.84|  52.0|    3104.0|   687.0|1157.0|   647.0|  3.12|241400.0|\n",
      "|-122.26|37.84|  42.0|    2555.0|   665.0|1206.0|   595.0|2.0804|226700.0|\n",
      "|-122.25|37.84|  52.0|    3549.0|   707.0|1551.0|   714.0|3.6912|261100.0|\n",
      "|-122.26|37.85|  52.0|    2202.0|   434.0| 910.0|   402.0|3.2031|281500.0|\n",
      "|-122.26|37.85|  52.0|    3503.0|   752.0|1504.0|   734.0|3.2705|241800.0|\n",
      "|-122.26|37.85|  52.0|    2491.0|   474.0|1098.0|   468.0| 3.075|213500.0|\n",
      "|-122.26|37.84|  52.0|     696.0|   191.0| 345.0|   174.0|2.6736|191300.0|\n",
      "+-------+-----+------+----------+--------+------+--------+------+--------+\n",
      "only showing top 15 rows\n",
      "\n"
     ]
    }
   ],
   "source": [
    "house_def.show(15)"
   ]
  },
  {
   "cell_type": "code",
   "execution_count": 95,
   "id": "862404c7-4ac2-4786-ac27-08298efe7fde",
   "metadata": {
    "tags": []
   },
   "outputs": [
    {
     "data": {
      "text/plain": [
       "['long',\n",
       " 'lat',\n",
       " 'medage',\n",
       " 'totalrooms',\n",
       " 'totbdrms',\n",
       " 'pop',\n",
       " 'houshlds',\n",
       " 'medinc',\n",
       " 'medhv']"
      ]
     },
     "execution_count": 95,
     "metadata": {},
     "output_type": "execute_result"
    }
   ],
   "source": [
    "house_def.columns"
   ]
  },
  {
   "cell_type": "code",
   "execution_count": 82,
   "id": "80f3f150-f9e6-48b2-8d7e-43b75d6aad8b",
   "metadata": {
    "tags": []
   },
   "outputs": [
    {
     "ename": "AttributeError",
     "evalue": "'function' object has no attribute 'fillna'",
     "output_type": "error",
     "traceback": [
      "\u001b[1;31m---------------------------------------------------------------------------\u001b[0m",
      "\u001b[1;31mAttributeError\u001b[0m                            Traceback (most recent call last)",
      "Cell \u001b[1;32mIn[82], line 1\u001b[0m\n\u001b[1;32m----> 1\u001b[0m house_def\u001b[38;5;241m=\u001b[39m\u001b[43mhouse_def\u001b[49m\u001b[38;5;241;43m.\u001b[39;49m\u001b[43mfillna\u001b[49m()\n",
      "\u001b[1;31mAttributeError\u001b[0m: 'function' object has no attribute 'fillna'"
     ]
    }
   ],
   "source": [
    "house_def=house_def.fillna()"
   ]
  },
  {
   "cell_type": "code",
   "execution_count": 96,
   "id": "a29dabf6-cf4f-44a7-b02e-5c0fb1a190d4",
   "metadata": {
    "tags": []
   },
   "outputs": [
    {
     "name": "stdout",
     "output_type": "stream",
     "text": [
      "root\n",
      " |-- long: float (nullable = true)\n",
      " |-- lat: float (nullable = true)\n",
      " |-- medage: float (nullable = true)\n",
      " |-- totalrooms: float (nullable = true)\n",
      " |-- totbdrms: float (nullable = true)\n",
      " |-- pop: float (nullable = true)\n",
      " |-- houshlds: float (nullable = true)\n",
      " |-- medinc: float (nullable = true)\n",
      " |-- medhv: float (nullable = true)\n",
      "\n"
     ]
    }
   ],
   "source": [
    "house_def.printSchema()"
   ]
  },
  {
   "cell_type": "code",
   "execution_count": 30,
   "id": "de76a919-a9b9-4476-bcea-b3db04cecc60",
   "metadata": {
    "tags": []
   },
   "outputs": [
    {
     "name": "stdout",
     "output_type": "stream",
     "text": [
      "+------+--------+\n",
      "|   pop|houshlds|\n",
      "+------+--------+\n",
      "| 496.0|   177.0|\n",
      "| 558.0|   219.0|\n",
      "| 565.0|   259.0|\n",
      "| 413.0|   193.0|\n",
      "|1094.0|   514.0|\n",
      "|1157.0|   647.0|\n",
      "|1551.0|   714.0|\n",
      "| 910.0|   402.0|\n",
      "|1504.0|   734.0|\n",
      "|1098.0|   468.0|\n",
      "+------+--------+\n",
      "only showing top 10 rows\n",
      "\n"
     ]
    }
   ],
   "source": [
    "house_def.select(\"pop\",\"houshlds\").where(\"medage>51\").show(10)"
   ]
  },
  {
   "cell_type": "code",
   "execution_count": 35,
   "id": "61233dc8-6c70-4c49-9016-89be8885e98b",
   "metadata": {},
   "outputs": [
    {
     "name": "stdout",
     "output_type": "stream",
     "text": [
      "+-------+-------+----------+--------+---------+--------+-------+-----------+\n",
      "|summary| medage|totalrooms|totbdrms|      pop|houshlds| medinc|      medhv|\n",
      "+-------+-------+----------+--------+---------+--------+-------+-----------+\n",
      "|  count|20640.0|   20640.0| 20433.0|  20640.0| 20640.0|20640.0|    20640.0|\n",
      "|   mean|28.6395| 2635.7631|537.8706|1425.4767|499.5397| 3.8707|206855.8169|\n",
      "| stddev|12.5856| 2181.6153|421.3851|1132.4621|382.3298| 1.8998|115395.6159|\n",
      "|    min|    1.0|       2.0|     1.0|      3.0|     1.0| 0.4999|    14999.0|\n",
      "|    max|   52.0|   39320.0|  6445.0|  35682.0|  6082.0|15.0001|   500001.0|\n",
      "+-------+-------+----------+--------+---------+--------+-------+-----------+\n",
      "\n"
     ]
    }
   ],
   "source": [
    "(house_def.describe().select(\"summary\", \n",
    "                    F.round(\"medage\",4).alias(\"medage\"),\n",
    "                    F.round(\"totalrooms\", 4).alias(\"totalrooms\"),\n",
    "                    F.round(\"totbdrms\", 4).alias(\"totbdrms\"),\n",
    "                    F.round(\"pop\", 4).alias(\"pop\"),\n",
    "                    F.round(\"houshlds\", 4).alias(\"houshlds\"),\n",
    "                    F.round(\"medinc\", 4).alias(\"medinc\"),\n",
    "                    F.round(\"medhv\", 4).alias(\"medhv\"))\n",
    "                    .show())"
   ]
  },
  {
   "cell_type": "code",
   "execution_count": 38,
   "id": "3ba3bcf2-1ba4-44e9-8218-27d6a87e9397",
   "metadata": {
    "tags": []
   },
   "outputs": [
    {
     "name": "stdout",
     "output_type": "stream",
     "text": [
      "+-------+-----+------+----------+--------+------+--------+------+--------------------+\n",
      "|   long|  lat|medage|totalrooms|totbdrms|   pop|houshlds|medinc|               medhv|\n",
      "+-------+-----+------+----------+--------+------+--------+------+--------------------+\n",
      "|   null| null|  null|      null|    null|  null|    null|  null|                null|\n",
      "|-122.23|37.88|  41.0|     880.0|   129.0| 322.0|   126.0|8.3252|4.525999999999999...|\n",
      "|-122.22|37.86|  21.0|    7099.0|  1106.0|2401.0|  1138.0|8.3014|3.584999999999999...|\n",
      "|-122.24|37.85|  52.0|    1467.0|   190.0| 496.0|   177.0|7.2574|3.520999999999999...|\n",
      "|-122.25|37.85|  52.0|    1274.0|   235.0| 558.0|   219.0|5.6431|           3.413E-10|\n",
      "+-------+-----+------+----------+--------+------+--------+------+--------------------+\n",
      "only showing top 5 rows\n",
      "\n"
     ]
    }
   ],
   "source": [
    "house_def=house_def.withColumn(\"medhv\",col(\"medhv\")/100000)\n",
    "house_def.show(5)"
   ]
  },
  {
   "cell_type": "code",
   "execution_count": 40,
   "id": "8cd9e7c6-06d2-4658-9ab0-8571eb4f1081",
   "metadata": {
    "tags": []
   },
   "outputs": [],
   "source": [
    "house_def = (house_def.withColumn(\"rmsperhh\", F.round(col(\"totalrooms\")/col(\"houshlds\"), 2))\n",
    "                       .withColumn(\"popperhh\", F.round(col(\"pop\")/col(\"houshlds\"), 2))\n",
    "                       .withColumn(\"bdrmsperrm\", F.round(col(\"totbdrms\")/col(\"totalrooms\"), 2)))"
   ]
  },
  {
   "cell_type": "code",
   "execution_count": 41,
   "id": "bd56a820-e735-4072-a6b7-07067d96e721",
   "metadata": {
    "tags": []
   },
   "outputs": [
    {
     "name": "stdout",
     "output_type": "stream",
     "text": [
      "+-------+-----+------+----------+--------+------+--------+------+--------------------+--------+--------+----------+\n",
      "|   long|  lat|medage|totalrooms|totbdrms|   pop|houshlds|medinc|               medhv|rmsperhh|popperhh|bdrmsperrm|\n",
      "+-------+-----+------+----------+--------+------+--------+------+--------------------+--------+--------+----------+\n",
      "|   null| null|  null|      null|    null|  null|    null|  null|                null|    null|    null|      null|\n",
      "|-122.23|37.88|  41.0|     880.0|   129.0| 322.0|   126.0|8.3252|4.525999999999999...|    6.98|    2.56|      0.15|\n",
      "|-122.22|37.86|  21.0|    7099.0|  1106.0|2401.0|  1138.0|8.3014|3.584999999999999...|    6.24|    2.11|      0.16|\n",
      "|-122.24|37.85|  52.0|    1467.0|   190.0| 496.0|   177.0|7.2574|3.520999999999999...|    8.29|     2.8|      0.13|\n",
      "|-122.25|37.85|  52.0|    1274.0|   235.0| 558.0|   219.0|5.6431|           3.413E-10|    5.82|    2.55|      0.18|\n",
      "|-122.25|37.85|  52.0|    1627.0|   280.0| 565.0|   259.0|3.8462|           3.422E-10|    6.28|    2.18|      0.17|\n",
      "|-122.25|37.85|  52.0|     919.0|   213.0| 413.0|   193.0|4.0368|           2.697E-10|    4.76|    2.14|      0.23|\n",
      "|-122.25|37.84|  52.0|    2535.0|   489.0|1094.0|   514.0|3.6591|           2.992E-10|    4.93|    2.13|      0.19|\n",
      "|-122.25|37.84|  52.0|    3104.0|   687.0|1157.0|   647.0|  3.12|           2.414E-10|     4.8|    1.79|      0.22|\n",
      "|-122.26|37.84|  42.0|    2555.0|   665.0|1206.0|   595.0|2.0804|2.266999999999999...|    4.29|    2.03|      0.26|\n",
      "+-------+-----+------+----------+--------+------+--------+------+--------------------+--------+--------+----------+\n",
      "only showing top 10 rows\n",
      "\n"
     ]
    }
   ],
   "source": [
    "house_def.show(10)"
   ]
  },
  {
   "cell_type": "code",
   "execution_count": 45,
   "id": "edb3f6dd-98b1-4fdc-b9bf-1117a5f2619f",
   "metadata": {
    "tags": []
   },
   "outputs": [],
   "source": [
    "house_def = house_def.select(\"medhv\", \n",
    "                              \"totbdrms\", \n",
    "                              \"pop\", \n",
    "                              \"houshlds\", \n",
    "                              \"medinc\", \n",
    "                              \"rmsperhh\", \n",
    "                              \"popperhh\", \n",
    "                              \"bdrmsperrm\")"
   ]
  },
  {
   "cell_type": "code",
   "execution_count": 52,
   "id": "0eef5afa-d8d4-4f71-9826-a34d7f4df524",
   "metadata": {
    "tags": []
   },
   "outputs": [],
   "source": [
    "featureCols = [\"totbdrms\", \"pop\", \"houshlds\", \"medinc\", \"rmsperhh\", \"popperhh\", \"bdrmsperrm\"]\n"
   ]
  },
  {
   "cell_type": "code",
   "execution_count": 49,
   "id": "0671d3db-e9c7-48f8-9e29-66a0fefd8336",
   "metadata": {
    "tags": []
   },
   "outputs": [],
   "source": [
    "assembler = VectorAssembler(inputCols=featureCols, outputCol=\"features\") \n"
   ]
  },
  {
   "cell_type": "code",
   "execution_count": 50,
   "id": "abb7c289-aea2-4f63-a27f-f207a7f4e5e3",
   "metadata": {
    "tags": []
   },
   "outputs": [],
   "source": [
    "assembled_df = assembler.transform(house_def)\n"
   ]
  },
  {
   "cell_type": "code",
   "execution_count": null,
   "id": "18471da9-bd93-43b9-bd7d-0ccb18d215e5",
   "metadata": {
    "tags": []
   },
   "outputs": [],
   "source": [
    "assembled_df.show(10, truncate=False)\n"
   ]
  },
  {
   "cell_type": "code",
   "execution_count": null,
   "id": "00b2e79a-6793-4e33-ac7a-5ea09c39b000",
   "metadata": {
    "tags": []
   },
   "outputs": [],
   "source": [
    "standardScaler = StandardScaler(inputCol=\"features\", outputCol=\"features_scaled\")\n",
    "scaled_df = standardScaler.fit(assembled_df).transform(assembled_df)\n",
    "scaled_df.select(\"features\", \"features_scaled\").show(10, truncate=False)"
   ]
  },
  {
   "cell_type": "code",
   "execution_count": null,
   "id": "6028fdd1-e8d6-49bc-8c85-618763d61e5f",
   "metadata": {
    "tags": []
   },
   "outputs": [],
   "source": [
    "train_data, test_data = scaled_df.randomSplit([.8,.2], seed=rnd_seed)\n"
   ]
  },
  {
   "cell_type": "code",
   "execution_count": null,
   "id": "e5efdf18-e44b-4910-949f-1fbb8807bf06",
   "metadata": {},
   "outputs": [],
   "source": [
    "lr = (LinearRegression(featuresCol='features_scaled', labelCol=\"medhv\", predictionCol='predmedhv', \n",
    "                               maxIter=10, regParam=0.3, elasticNetParam=0.8, standardization=False))"
   ]
  },
  {
   "cell_type": "code",
   "execution_count": null,
   "id": "e8fa5169-6570-43e4-9efc-ef92179d3ff5",
   "metadata": {},
   "outputs": [],
   "source": [
    "linearModel = lr.fit(train_data)"
   ]
  },
  {
   "cell_type": "code",
   "execution_count": null,
   "id": "da56db04-7a7f-448b-a27d-ac34c204f0b3",
   "metadata": {},
   "outputs": [],
   "source": [
    "linearModel.coefficients"
   ]
  },
  {
   "cell_type": "code",
   "execution_count": null,
   "id": "17ff1355-6942-42db-b10d-c4c4540f6745",
   "metadata": {},
   "outputs": [],
   "source": [
    "linearModel.intercept"
   ]
  },
  {
   "cell_type": "code",
   "execution_count": null,
   "id": "b09e9efe-249f-4306-879f-685021bbe722",
   "metadata": {},
   "outputs": [],
   "source": [
    "print(\"RMSE: {0}\".format(linearModel.summary.rootMeanSquaredError))\n"
   ]
  },
  {
   "cell_type": "code",
   "execution_count": null,
   "id": "fe6ea93e-5670-4885-aaef-e1a779258ab9",
   "metadata": {},
   "outputs": [],
   "source": [
    "print(\"MAE: {0}\".format(linearModel.summary.meanAbsoluteError))\n"
   ]
  }
 ],
 "metadata": {
  "kernelspec": {
   "display_name": "Python 3 (ipykernel)",
   "language": "python",
   "name": "python3"
  },
  "language_info": {
   "codemirror_mode": {
    "name": "ipython",
    "version": 3
   },
   "file_extension": ".py",
   "mimetype": "text/x-python",
   "name": "python",
   "nbconvert_exporter": "python",
   "pygments_lexer": "ipython3",
   "version": "3.11.5"
  }
 },
 "nbformat": 4,
 "nbformat_minor": 5
}
